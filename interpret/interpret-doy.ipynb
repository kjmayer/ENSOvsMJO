{
 "cells": [
  {
   "cell_type": "code",
   "execution_count": 1,
   "id": "77b01165-3eb5-4851-929c-4c2c6b853d1b",
   "metadata": {},
   "outputs": [
    {
     "name": "stderr",
     "output_type": "stream",
     "text": [
      "2023-12-14 09:29:39.356371: I tensorflow/core/platform/cpu_feature_guard.cc:193] This TensorFlow binary is optimized with oneAPI Deep Neural Network Library (oneDNN) to use the following CPU instructions in performance-critical operations:  SSE4.1 SSE4.2 AVX AVX2 AVX512F AVX512_VNNI FMA\n",
      "To enable them in other operations, rebuild TensorFlow with the appropriate compiler flags.\n",
      "2023-12-14 09:29:40.746338: I tensorflow/core/util/port.cc:104] oneDNN custom operations are on. You may see slightly different numerical results due to floating-point round-off errors from different computation orders. To turn them off, set the environment variable `TF_ENABLE_ONEDNN_OPTS=0`.\n"
     ]
    }
   ],
   "source": [
    "import numpy as np\n",
    "import xarray as xr\n",
    "import matplotlib.pyplot as plt\n",
    "import tensorflow as tf\n",
    "import random \n",
    "from datetime import datetime\n",
    "import pandas as pd\n",
    "import os \n",
    "\n",
    "import sys\n",
    "sys.path.append('/glade/work/kjmayer/research/catalyst/ENSOvsMJO/utils/')\n",
    "# sys.path.append('/glade/u/home/wchapman/ENSOvsMJO/utils/')\n",
    "from exp_hp import get_hp\n",
    "from trainGordon_utils import subset, build_model, fullmodel, scheduler, plot_results, adjust_spines\n",
    "from dataprep_utils import get_testing\n",
    "sys.path.append('/glade/work/kjmayer/research/catalyst/ENSOvsMJO/interpret/')\n",
    "# sys.path.append('/glade/u/home/wchapman/ENSOvsMJO/interpret/')\n",
    "from Gordon_interp import getoutputvecs, confvacc, iconfcorr\n",
    "\n",
    "\n",
    "# import importlib\n",
    "# importlib.reload(sys.modules[\"Gordon_interp\"])\n",
    "# from Gordon_interp import getoutputvecs, confvacc, iconfcorr\n",
    "# importlib.reload(sys.modules[\"trainGordon_utils\"])\n",
    "# from trainGordon_utils import subset, build_model, fullmodel, scheduler, plot_results\n",
    "\n",
    "import matplotlib as mpl\n",
    "import matplotlib.pyplot as plt\n",
    "\n",
    "plt.rc('text',usetex=True)\n",
    "plt.rcParams['font.family']='sans-serif'\n",
    "plt.rcParams['font.sans-serif']=['Verdana']\n",
    "plt.rcParams.update({'font.size': 15})\n",
    "def adjust_spines(ax, spines):\n",
    "    for loc, spine in ax.spines.items():\n",
    "        if loc in spines:\n",
    "            spine.set_position(('outward', 5))\n",
    "        else:\n",
    "            spine.set_color('none')\n",
    "    if 'left' in spines:\n",
    "        ax.yaxis.set_ticks_position('left')\n",
    "    else:\n",
    "        ax.yaxis.set_ticks([])\n",
    "    if 'bottom' in spines:\n",
    "        ax.xaxis.set_ticks_position('bottom')\n",
    "    else:\n",
    "            ax.xaxis.set_ticks([])\n",
    "mpl.rcParams['figure.facecolor'] = 'white'\n",
    "mpl.rcParams['figure.dpi'] = 150\n",
    "dpiFig = 300."
   ]
  },
  {
   "cell_type": "code",
   "execution_count": 2,
   "id": "fdda4a1b-aebd-469b-9747-100b531ab333",
   "metadata": {},
   "outputs": [],
   "source": [
    "MODEL_DIR = '/glade/work/kjmayer/research/catalyst/ENSOvsMJO/data/doy_models/' #models/'\n",
    "# MODEL_DIR = '/glade/scratch/wchapman/ENSOmjo_ML_models/saved_models/'\n",
    "EXP_NAME = 'default'\n",
    "hps = get_hp(EXP_NAME)\n",
    "# variables:\n",
    "DROPOUT_RATE = hps['DROPOUT_RATE']\n",
    "\n",
    "MODELNAME1 = 'ENSO'\n",
    "RIDGE1 = hps['RIDGE1']\n",
    "HIDDENS1 = hps['HIDDENS1']\n",
    "\n",
    "MODELNAME2 = 'MJO'\n",
    "RIDGE2 = hps['RIDGE2']\n",
    "HIDDENS2 = hps['HIDDENS2']\n",
    "\n",
    "BATCH_SIZE = hps['BATCH_SIZE']\n",
    "N_EPOCHS = 10000\n",
    "PATIENCE = hps['PATIENCE'] # number of epochs of no \"improvement\" before training is stopped\n",
    "LR = hps['LR'] # learning rate\n",
    "\n",
    "\n",
    "LEADS = np.arange(5,6)#,31)\n",
    "AVGS = np.arange(2,3)#,29) #32)\n",
    "SEEDS = np.arange(1,2)#,6)\n",
    "\n",
    "SAVE = True"
   ]
  },
  {
   "cell_type": "code",
   "execution_count": 13,
   "id": "5599d179-a0af-420a-b9ac-e4c9f437d3ad",
   "metadata": {},
   "outputs": [
    {
     "name": "stdout",
     "output_type": "stream",
     "text": [
      "LEAD: 5\n",
      "361/361 [==============================] - 1s 1ms/step\n",
      "361/361 [==============================] - 0s 950us/step\n",
      "361/361 [==============================] - 1s 1ms/step\n"
     ]
    }
   ],
   "source": [
    "# Check DOY distribution of confident predictions\n",
    "\n",
    "for l in LEADS:\n",
    "    print('LEAD: '+str(l)) \n",
    "    for a in AVGS:\n",
    "        # CHANGE:\n",
    "        # check if files already exist:\n",
    "        # ddir_save = '/glade/derecho/scratch/kjmayer/DATA/ENSOvsMJO/data/doy_interpret/'\n",
    "        # finame_confvsacc = 'confvsacc_DOY_LEAD_'+str(l)+'_AVG_'+str(a)+'__00001-00005.npy'\n",
    "        # if not os.path.isfile(ddir_save+finame_confvsacc):\n",
    "        # print('load testing data')\n",
    "        X1test, X2test, Ytest = get_testing(N_z500runmean=a,\n",
    "                                            LEAD=l)\n",
    "\n",
    "        INPUT_SHAPE1 = np.shape(X1test)[1:][0]\n",
    "        INPUT_SHAPE2 = np.shape(X2test)[1:][0]\n",
    "\n",
    "\n",
    "        for s in SEEDS:\n",
    "            # ENSO MODEL\n",
    "            model1, input1 = build_model(s,\n",
    "                                         DROPOUT_RATE,\n",
    "                                         RIDGE1,\n",
    "                                         HIDDENS1,\n",
    "                                         INPUT_SHAPE1,\n",
    "                                         MODELNAME1)\n",
    "            # MJO MODEL\n",
    "            model2, input2 = build_model(s,\n",
    "                                         DROPOUT_RATE,\n",
    "                                         RIDGE2,\n",
    "                                         HIDDENS2,\n",
    "                                         INPUT_SHAPE2,\n",
    "                                         MODELNAME2)   \n",
    "            # COMBINE ENSO & MJO MODEL\n",
    "            model = fullmodel(model1, model2,\n",
    "                              input1, input2,\n",
    "                              s)\n",
    "\n",
    "            MODEL_FINAME = 'DOY_LEAD_'+str(l)+'_AVG_'+str(a)+'__0000'+str(s)+'.h5'\n",
    "            model.load_weights(MODEL_DIR+MODEL_FINAME)\n",
    "\n",
    "            model_rawpreds[s-1] = model.predict((X1test,X2test))                \n",
    "\n",
    "            conf    = np.max(model_rawpreds[s-1],axis=-1)\n",
    "            predval = np.argmax(model_rawpreds[s-1],axis=-1)\n",
    "\n",
    "            # ------- confident predictions --------------------------------------------------------\n",
    "            per = 80\n",
    "            conf_thresh = np.percentile(conf,q=per)\n",
    "            # -------- confident [i_conf_predval] --------\n",
    "            i_conf_predval = np.where(conf > conf_thresh)[0]\n",
    "            \n",
    "            X1test_doy =  X1test[:,-1]\n",
    "            X2test_doy =  X2test[:,-1]\n",
    "            X1test_conf_doy = X1test[i_conf_predval,-1]\n",
    "            X2test_conf_doy = X2test[i_conf_predval,-1]\n",
    "            \n",
    "            # ----- model contribution: ------------------------------------------------------------\n",
    "            model1_rawpreds, model2_rawpreds = getoutputvecs(model,\n",
    "                                                                   model1,\n",
    "                                                                   model2,\n",
    "                                                                   X1test,\n",
    "                                                                   X2test)\n",
    "            # model X winning class (model X output * weight)\n",
    "            model1pred = np.argmax(model1_rawpreds,axis=1)\n",
    "            model2pred = np.argmax(model2_rawpreds,axis=1)\n",
    "            \n",
    "            \n",
    "            # Where ENSO/MJO/final model (model 1/model 2/total) are correct\n",
    "            i_model1_confcorr = model1pred[i_conf_predval]==Ytest[i_conf_predval]\n",
    "            i_model2_confcorr = model2pred[i_conf_predval]==Ytest[i_conf_predval]\n",
    "            # i_model_confcorr  = predval[i_conf_predval]==Ytest[i_conf_predval]\n",
    "                        \n",
    "            X1test_confcorr_doy = X1test_conf_doy[i_model1_confcorr]\n",
    "            X2test_confcorr_doy = X2test_conf_doy[i_model2_confcorr]\n",
    "                \n",
    "                \n",
    "# CHANGE:                \n",
    "#             if SAVE:\n",
    "#                 # print('saving')\n",
    "#                 ddir_save = '/glade/derecho/scratch/kjmayer/DATA/ENSOvsMJO/data/doy_interpret/'\n",
    "                \n",
    "#                 finame_confvsacc = 'confvsacc_DOY_LEAD_'+str(l)+'_AVG_'+str(a)+'__00001-00005.npy'\n",
    "#                 np.save(ddir_save+finame_confvsacc, confvsacc)\n"
   ]
  },
  {
   "cell_type": "code",
   "execution_count": 11,
   "id": "bf7e4420-4b0b-4097-a699-53a7d308bd2f",
   "metadata": {},
   "outputs": [
    {
     "data": {
      "text/plain": [
       "(2307,)"
      ]
     },
     "execution_count": 11,
     "metadata": {},
     "output_type": "execute_result"
    }
   ],
   "source": [
    "i_model1_confcorr.shape"
   ]
  },
  {
   "cell_type": "code",
   "execution_count": 12,
   "id": "cb24b090-f51c-4962-ab92-ae44e663abea",
   "metadata": {},
   "outputs": [
    {
     "data": {
      "text/plain": [
       "(2307,)"
      ]
     },
     "execution_count": 12,
     "metadata": {},
     "output_type": "execute_result"
    }
   ],
   "source": [
    "X1test_conf_doy.shape"
   ]
  },
  {
   "cell_type": "code",
   "execution_count": 14,
   "id": "eb8ad83b-030f-42fd-9088-4da465655304",
   "metadata": {},
   "outputs": [
    {
     "data": {
      "text/plain": [
       "array([  1,   2,   3,   4,   5,   6,   7,   8,   9,  10,  11,  12,  13,\n",
       "        14,  15,  16,  17,  18,  19,  20,  21,  22,  23,  24,  25,  26,\n",
       "        27,  28,  29,  30,  31,  32,  33,  34,  35,  36,  37,  38,  39,\n",
       "        40,  41,  42,  43,  44,  45,  46,  47,  48,  49,  50,  51,  52,\n",
       "        53,  54,  55,  56,  57,  58,  59,  60,  61,  62,  63,  64,  65,\n",
       "        66,  67,  68,  69,  70,  71,  72,  73,  74,  75,  76,  77,  78,\n",
       "        79,  80,  81,  82,  83,  84,  85,  86,  87,  88,  89,  90,  91,\n",
       "        92,  93,  94,  95,  96,  97,  98,  99, 100, 101, 102, 103, 104,\n",
       "       105, 106, 107, 108, 109, 110, 111, 112, 113, 114, 115, 116, 117,\n",
       "       118, 119, 120, 121, 122, 123, 124, 125, 126, 127, 128, 129, 130,\n",
       "       131, 132, 133, 134, 135, 136, 137, 138, 139, 140, 141, 142, 143,\n",
       "       144, 145, 146, 147, 148, 149, 150, 151, 152, 153, 154, 155, 156,\n",
       "       157, 158, 159, 160, 161, 162, 163, 164, 165, 166, 167, 168, 169,\n",
       "       170, 171, 172, 173, 174, 175, 176, 177, 178, 179, 180, 181, 182,\n",
       "       183, 184, 185, 186, 187, 188, 189, 190, 191, 192, 193, 194, 195,\n",
       "       196, 197, 198, 199, 200, 201, 202, 203, 204, 205, 206, 207, 208,\n",
       "       209, 210, 211, 212, 213, 214, 215, 216, 217, 218, 219, 220, 221,\n",
       "       222, 223, 224, 225, 226, 227, 228, 229, 230, 231, 232, 233, 234,\n",
       "       235, 236, 237, 238, 239, 240, 241, 242, 243, 244, 245, 246, 247,\n",
       "       248, 249, 250, 251, 252, 253, 254, 255, 256, 257, 258, 259, 260,\n",
       "       261, 262, 263, 264, 265, 266, 267, 268, 269, 270, 271, 272, 273,\n",
       "       274, 275, 276, 277, 278, 279, 280, 281, 282, 283, 284, 285, 286,\n",
       "       287, 288, 289, 290, 291, 292, 293, 294, 295, 296, 297, 298, 299,\n",
       "       300, 301, 302, 303, 304, 305, 306, 307, 308, 309, 310, 311, 312,\n",
       "       313, 314, 315, 316, 317, 318, 319, 320, 321, 322, 323, 324, 325,\n",
       "       326, 327, 328, 329, 330, 331, 332, 333, 334, 335, 336, 337, 338,\n",
       "       339, 340, 341, 342, 343, 344, 345, 346, 347, 348, 349, 350, 351,\n",
       "       352, 353, 354, 355, 356, 357, 358, 359, 360, 361, 362, 363, 364,\n",
       "       365])"
      ]
     },
     "execution_count": 14,
     "metadata": {},
     "output_type": "execute_result"
    }
   ],
   "source": [
    "np.arange(1,366)"
   ]
  },
  {
   "cell_type": "code",
   "execution_count": null,
   "id": "9bbb0eb6-78f6-443a-b98f-93f7d16efa80",
   "metadata": {},
   "outputs": [],
   "source": [
    "vals_doy_test = np.array(X2_testxr_mem_NDJF['time.dayofyear'])\n",
    "vals_doy_test[vals_doy_test<60]+=366\n",
    "vals_doy_test = (vals_doy_test-np.mean(vals_doy_test))/np.std(vals_doy_test)"
   ]
  }
 ],
 "metadata": {
  "kernelspec": {
   "display_name": "Python [conda env:tf2-env-v2]",
   "language": "python",
   "name": "conda-env-tf2-env-v2-py"
  },
  "language_info": {
   "codemirror_mode": {
    "name": "ipython",
    "version": 3
   },
   "file_extension": ".py",
   "mimetype": "text/x-python",
   "name": "python",
   "nbconvert_exporter": "python",
   "pygments_lexer": "ipython3",
   "version": "3.9.17"
  }
 },
 "nbformat": 4,
 "nbformat_minor": 5
}
