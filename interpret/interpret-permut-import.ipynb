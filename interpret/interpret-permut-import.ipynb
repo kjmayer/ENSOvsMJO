{
 "cells": [
  {
   "cell_type": "markdown",
   "id": "d9a6521f-0052-4657-8336-00fb21e8409a",
   "metadata": {
    "jp-MarkdownHeadingCollapsed": true,
    "tags": []
   },
   "source": [
    "## Calculate Permutation Importance"
   ]
  },
  {
   "cell_type": "markdown",
   "id": "9be49fae-2aa3-4bf9-9d4c-f12d003662ff",
   "metadata": {
    "tags": []
   },
   "source": [
    "## Prep for analysis"
   ]
  },
  {
   "cell_type": "code",
   "execution_count": null,
   "id": "4b66c4fa-5299-467a-809d-cb3fc8d30589",
   "metadata": {},
   "outputs": [
    {
     "name": "stderr",
     "output_type": "stream",
     "text": [
      "2023-10-10 16:25:29.398831: I tensorflow/core/platform/cpu_feature_guard.cc:193] This TensorFlow binary is optimized with oneAPI Deep Neural Network Library (oneDNN) to use the following CPU instructions in performance-critical operations:  SSE4.1 SSE4.2 AVX AVX2 AVX512F AVX512_VNNI FMA\n",
      "To enable them in other operations, rebuild TensorFlow with the appropriate compiler flags.\n",
      "2023-10-10 16:25:30.904996: I tensorflow/core/util/port.cc:104] oneDNN custom operations are on. You may see slightly different numerical results due to floating-point round-off errors from different computation orders. To turn them off, set the environment variable `TF_ENABLE_ONEDNN_OPTS=0`.\n"
     ]
    }
   ],
   "source": [
    "import numpy as np\n",
    "import xarray as xr\n",
    "import matplotlib.pyplot as plt\n",
    "import tensorflow as tf\n",
    "import random \n",
    "from datetime import datetime\n",
    "import pandas as pd\n",
    "import os \n",
    "\n",
    "import sys\n",
    "sys.path.append('/glade/work/kjmayer/research/catalyst/ENSOvsMJO/utils/')\n",
    "# sys.path.append('/glade/u/home/wchapman/ENSOvsMJO/utils/')\n",
    "from exp_hp import get_hp\n",
    "from trainGordon_utils import subset, build_model, fullmodel, scheduler, plot_results, adjust_spines\n",
    "from dataprep_utils import get_testing\n",
    "sys.path.append('/glade/work/kjmayer/research/catalyst/ENSOvsMJO/interpret/')\n",
    "# sys.path.append('/glade/u/home/wchapman/ENSOvsMJO/interpret/')\n",
    "from Gordon_interp import confvacc\n",
    "\n",
    "\n",
    "# import importlib\n",
    "# importlib.reload(sys.modules[\"Gordon_interp\"])\n",
    "# from Gordon_interp import getoutputvecs, confvacc, iconfcorr\n",
    "# importlib.reload(sys.modules[\"trainGordon_utils\"])\n",
    "# from trainGordon_utils import subset, build_model, fullmodel, scheduler, plot_results\n",
    "\n",
    "import matplotlib as mpl\n",
    "import matplotlib.pyplot as plt\n",
    "\n",
    "plt.rc('text',usetex=True)\n",
    "plt.rcParams['font.family']='sans-serif'\n",
    "plt.rcParams['font.sans-serif']=['Verdana']\n",
    "plt.rcParams.update({'font.size': 15})\n",
    "def adjust_spines(ax, spines):\n",
    "    for loc, spine in ax.spines.items():\n",
    "        if loc in spines:\n",
    "            spine.set_position(('outward', 5))\n",
    "        else:\n",
    "            spine.set_color('none')\n",
    "    if 'left' in spines:\n",
    "        ax.yaxis.set_ticks_position('left')\n",
    "    else:\n",
    "        ax.yaxis.set_ticks([])\n",
    "    if 'bottom' in spines:\n",
    "        ax.xaxis.set_ticks_position('bottom')\n",
    "    else:\n",
    "            ax.xaxis.set_ticks([])\n",
    "mpl.rcParams['figure.facecolor'] = 'white'\n",
    "mpl.rcParams['figure.dpi'] = 150\n",
    "dpiFig = 300."
   ]
  },
  {
   "cell_type": "markdown",
   "id": "1cb4fdd3-934d-4eea-b75f-64c18a60aa25",
   "metadata": {
    "tags": []
   },
   "source": [
    "### Load network:"
   ]
  },
  {
   "cell_type": "code",
   "execution_count": null,
   "id": "09f14733-e325-454d-9f75-245f84158ac5",
   "metadata": {},
   "outputs": [],
   "source": [
    "MODEL_DIR = '/glade/scratch/wchapman/ENSOmjo_ML_models/saved_models/'\n",
    "EXP_NAME = 'default'\n",
    "hps = get_hp(EXP_NAME)\n",
    "# variables:\n",
    "DROPOUT_RATE = hps['DROPOUT_RATE']\n",
    "\n",
    "MODELNAME1 = 'ENSO'\n",
    "RIDGE1 = hps['RIDGE1']\n",
    "HIDDENS1 = hps['HIDDENS1']\n",
    "\n",
    "MODELNAME2 = 'MJO'\n",
    "RIDGE2 = hps['RIDGE2']\n",
    "HIDDENS2 = hps['HIDDENS2']\n",
    "\n",
    "BATCH_SIZE = hps['BATCH_SIZE']\n",
    "N_EPOCHS = 10000\n",
    "PATIENCE = hps['PATIENCE'] # number of epochs of no \"improvement\" before training is stopped\n",
    "LR = hps['LR'] # learning rate\n",
    "\n",
    "\n",
    "LEADS = np.arange(7,31)\n",
    "AVGS = np.arange(7,32)\n",
    "SEEDS = np.arange(1,6)\n",
    "\n",
    "SAVE = True"
   ]
  },
  {
   "cell_type": "markdown",
   "id": "dee26ef1-260f-4051-ac54-78fe2b4e3ddd",
   "metadata": {
    "tags": []
   },
   "source": [
    "### Analyze Data"
   ]
  },
  {
   "cell_type": "code",
   "execution_count": null,
   "id": "4b67d57a-6ef7-4f39-9744-744f90117497",
   "metadata": {},
   "outputs": [],
   "source": [
    "# model raw predictions\n",
    "# confidence vs accuracy\n",
    "# model contribution fractions\n",
    "\n",
    "for l in LEADS:\n",
    "    for a in AVGS:\n",
    "        print('LEAD: '+str(l)+'\\nAVG: '+str(a))\n",
    "        \n",
    "        #check if files already exist:\n",
    "        ddir_save = '/glade/scratch/kjmayer/DATA/ENSOvsMJO/data/'\n",
    "        finame_confvsacc = 'confvsacc_permutimport_LEAD_'+str(l)+'_AVG_'+str(a)+'__00001-00005.npy'\n",
    "        if not os.path.isfile(ddir_save+finame_confvsacc):\n",
    "            # print('load testing data')\n",
    "            X1test, X2test_noshuffle, Ytest = get_testing(N_z500runmean=a,\n",
    "                                                LEAD=l)\n",
    "\n",
    "            \n",
    "            # shuffle MJO network input (X2test)\n",
    "            ishuffle_X2 = np.random.choice(a=np.shape(X2test_noshuffle)[0],\n",
    "                                            size=np.shape(X2test_noshuffle)[0],\n",
    "                                            replace=False)\n",
    "            X2test = X2test_noshuffle[ishuffle_X2]\n",
    "            \n",
    "            \n",
    "            INPUT_SHAPE1 = np.shape(X1test)[1:][0]\n",
    "            INPUT_SHAPE2 = np.shape(X2test)[1:][0]\n",
    "\n",
    "            confvsacc = np.zeros(shape=(len(SEEDS),100))\n",
    "            \n",
    "            for s in SEEDS:\n",
    "                # ENSO MODEL\n",
    "                model1, input1 = build_model(s,\n",
    "                                             DROPOUT_RATE,\n",
    "                                             RIDGE1,\n",
    "                                             HIDDENS1,\n",
    "                                             INPUT_SHAPE1,\n",
    "                                             MODELNAME1)\n",
    "                # MJO MODEL\n",
    "                model2, input2 = build_model(s,\n",
    "                                             DROPOUT_RATE,\n",
    "                                             RIDGE2,\n",
    "                                             HIDDENS2,\n",
    "                                             INPUT_SHAPE2,\n",
    "                                             MODELNAME2)   \n",
    "                # COMBINE ENSO & MJO MODEL\n",
    "                model = fullmodel(model1, model2,\n",
    "                                  input1, input2,\n",
    "                                  s)\n",
    "\n",
    "                MODEL_FINAME = 'LEAD_'+str(l)+'_AVG_'+str(a)+'__0000'+str(s)+'.h5'\n",
    "                model.load_weights(MODEL_DIR+MODEL_FINAME)\n",
    "                \n",
    "                model_og_rawpreds = model.predict((X1test,X2test_noshuffle))\n",
    "                conf_og    = np.max(model_og_rawpreds,axis=-1)\n",
    "                # predval_og = np.argmax(model_og_rawpreds,axis=-1)\n",
    "                \n",
    "                model_rawpreds = model.predict((X1test,X2test))                \n",
    "                # conf    = np.max(model_rawpreds,axis=-1)\n",
    "                predval = np.argmax(model_rawpreds,axis=-1)\n",
    "                \n",
    "                # ----- confidence vs accuracy for all seeds: -------------------------------------------\n",
    "                # evaluate skill of shuffled data model,\n",
    "                # where model with no shuffled data was confident\n",
    "                confvsacc[s-1], _, _ = confvacc(confval = conf_og, # confidence values for original model\n",
    "                                                predval = predval, # predict values with shuffled X2test\n",
    "                                                Ytest   = Ytest)\n",
    "\n",
    "            if SAVE:\n",
    "                print('saving')\n",
    "                ddir_save = '/glade/scratch/kjmayer/DATA/ENSOvsMJO/data/'\n",
    "                finame_confvsacc = 'confvsacc_permutimport_LEAD_'+str(l)+'_AVG_'+str(a)+'__00001-00005.npy'\n",
    "                np.save(ddir_save+finame_confvsacc, confvsacc)"
   ]
  }
 ],
 "metadata": {
  "kernelspec": {
   "display_name": "tf2-env-v2",
   "language": "python",
   "name": "tf2-env-v2"
  },
  "language_info": {
   "codemirror_mode": {
    "name": "ipython",
    "version": 3
   },
   "file_extension": ".py",
   "mimetype": "text/x-python",
   "name": "python",
   "nbconvert_exporter": "python",
   "pygments_lexer": "ipython3",
   "version": "3.9.17"
  }
 },
 "nbformat": 4,
 "nbformat_minor": 5
}
