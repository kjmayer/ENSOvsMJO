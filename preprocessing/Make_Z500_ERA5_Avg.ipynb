{
 "cells": [
  {
   "cell_type": "code",
   "execution_count": 1,
   "id": "8e3c2c3c-79fa-4ac2-bd5e-c5a96877b7fd",
   "metadata": {},
   "outputs": [],
   "source": [
    "import numpy as np\n",
    "import xarray as xr\n",
    "import matplotlib.pyplot as plt"
   ]
  },
  {
   "cell_type": "code",
   "execution_count": 2,
   "id": "2d58bd1d-3166-4478-b7c1-99875e92d793",
   "metadata": {},
   "outputs": [],
   "source": [
    "DIR = '/glade/scratch/wchapman/data_for_KJM/'\n",
    "Z500_FINAME  = 'Z500_ERA5_1975_2022_WEC.nc'"
   ]
  },
  {
   "cell_type": "code",
   "execution_count": 3,
   "id": "2b16e0a8-75d2-4809-b580-d3c14d648b0e",
   "metadata": {},
   "outputs": [],
   "source": [
    "DS = xr.open_dataset(DIR+Z500_FINAME)"
   ]
  },
  {
   "cell_type": "code",
   "execution_count": 5,
   "id": "03a0be25-efda-4b7e-822e-772924ec5ff1",
   "metadata": {},
   "outputs": [],
   "source": [
    "DS['Z500a'] = DS['Z'] - DS['Z500_climo']"
   ]
  },
  {
   "cell_type": "code",
   "execution_count": 6,
   "id": "53aaec09-9230-4199-a793-69d75accbc8f",
   "metadata": {},
   "outputs": [],
   "source": [
    "DS['TS_Z500a'] = DS['Z500a'].sel(lat=slice(30,60),lon=slice(170,240)).mean(['lat','lon'])"
   ]
  },
  {
   "cell_type": "code",
   "execution_count": 7,
   "id": "7c2e05c1-79a5-4ce8-99ea-ab9296811703",
   "metadata": {},
   "outputs": [],
   "source": [
    "Z500_FINAME_v2 = 'Z500v2_ERA5_1974_2020.001.nc'\n",
    "DS.to_netcdf(DIR+Z500_FINAME_v2)"
   ]
  }
 ],
 "metadata": {
  "kernelspec": {
   "display_name": "NPL 2023b",
   "language": "python",
   "name": "npl-2023b"
  },
  "language_info": {
   "codemirror_mode": {
    "name": "ipython",
    "version": 3
   },
   "file_extension": ".py",
   "mimetype": "text/x-python",
   "name": "python",
   "nbconvert_exporter": "python",
   "pygments_lexer": "ipython3",
   "version": "3.10.12"
  }
 },
 "nbformat": 4,
 "nbformat_minor": 5
}
