{
 "cells": [
  {
   "cell_type": "code",
   "execution_count": 1,
   "id": "119f2acd-0fbc-48fc-8659-0a08b155fbdb",
   "metadata": {},
   "outputs": [],
   "source": [
    "import numpy as np\n",
    "import xarray as xr\n",
    "import matplotlib.pyplot as plt"
   ]
  },
  {
   "cell_type": "code",
   "execution_count": 2,
   "id": "c5509f15-5e91-4d38-a15e-af1a57a0ebb2",
   "metadata": {},
   "outputs": [],
   "source": [
    "DIR = '/glade/scratch/kjmayer/DATA/CESM2-piControl/daily/'\n",
    "FINAME  = 'FLUT_CESM2_0100_0400.b.e21.B1850.f09_g17.CMIP6-esm-piControl.001.nc'\n",
    "DS = xr.open_dataset(DIR+FINAME)"
   ]
  },
  {
   "cell_type": "code",
   "execution_count": 4,
   "id": "703d23d4-af4d-4dad-b344-25cdb63362a4",
   "metadata": {},
   "outputs": [],
   "source": [
    "DS['FLUTa'] = DS['FLUT'] - DS['FLUT_climo']"
   ]
  },
  {
   "cell_type": "code",
   "execution_count": 5,
   "id": "9ba05126-803c-4506-9011-199132099976",
   "metadata": {},
   "outputs": [],
   "source": [
    "FINAME_v2 = 'FLUTv2_CESM2_0100_0400.b.e21.B1850.f09_g17.CMIP6-esm-piControl.001.nc'\n",
    "DS.to_netcdf(DIR+FINAME_v2)"
   ]
  },
  {
   "cell_type": "code",
   "execution_count": null,
   "id": "19779d8a-53c4-48d1-8920-44e6f8ed738b",
   "metadata": {},
   "outputs": [],
   "source": []
  }
 ],
 "metadata": {
  "kernelspec": {
   "display_name": "Python [conda env:.conda-tf2-env]",
   "language": "python",
   "name": "conda-env-.conda-tf2-env-py"
  },
  "language_info": {
   "codemirror_mode": {
    "name": "ipython",
    "version": 3
   },
   "file_extension": ".py",
   "mimetype": "text/x-python",
   "name": "python",
   "nbconvert_exporter": "python",
   "pygments_lexer": "ipython3",
   "version": "3.10.4"
  }
 },
 "nbformat": 4,
 "nbformat_minor": 5
}
