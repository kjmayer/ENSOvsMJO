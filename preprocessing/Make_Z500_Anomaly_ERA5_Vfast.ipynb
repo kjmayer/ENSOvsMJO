{
 "cells": [
  {
   "cell_type": "markdown",
   "metadata": {},
   "source": [
    "## Create Z500"
   ]
  },
  {
   "cell_type": "code",
   "execution_count": 1,
   "metadata": {},
   "outputs": [],
   "source": [
    "import sys\n",
    "import xarray as xr\n",
    "import numpy as np\n",
    "import matplotlib.pyplot as plt\n",
    "import matplotlib as mpl\n",
    "#import collections\n",
    "import pandas as pd\n",
    "import matplotlib.ticker as mticker\n",
    "from cartopy.mpl.gridliner import LONGITUDE_FORMATTER, LATITUDE_FORMATTER\n",
    "\n",
    "# import netCDF4\n",
    "# from netCDF4 import *\n",
    "\n",
    "import cartopy.crs as ccrs\n",
    "import cartopy as cart\n",
    "import cartopy.mpl.ticker as cticker\n",
    "import cartopy.feature as cfeature\n",
    "from scipy import interpolate\n",
    "from scipy.interpolate import griddata\n",
    "import time\n",
    "import glob\n",
    "import dask\n",
    "\n",
    "from scipy.fftpack import fft\n",
    "from scipy.fftpack import ifft\n",
    "import copy\n",
    "import eofs.standard as Eof_st\n",
    "from matplotlib.colors import ListedColormap\n",
    "\n",
    "from cartopy.mpl.gridliner import LONGITUDE_FORMATTER, LATITUDE_FORMATTER\n",
    "from cartopy.mpl.ticker import LongitudeFormatter, LatitudeFormatter\n",
    "\n",
    "import cmocean"
   ]
  },
  {
   "cell_type": "code",
   "execution_count": 2,
   "metadata": {},
   "outputs": [
    {
     "name": "stdout",
     "output_type": "stream",
     "text": [
      "client does not exist yet\n"
     ]
    }
   ],
   "source": [
    "if 'client' in locals():\n",
    "    client.shutdown()\n",
    "    print('...shutdown client...')\n",
    "else:\n",
    "    print('client does not exist yet')"
   ]
  },
  {
   "cell_type": "code",
   "execution_count": null,
   "metadata": {},
   "outputs": [],
   "source": [
    "from distributed import Client\n",
    "from ncar_jobqueue import NCARCluster\n",
    "\n",
    "cluster = NCARCluster(project='NAML0001',walltime='12:00:00')\n",
    "cluster.scale(40)\n",
    "client = Client(cluster)\n",
    "client"
   ]
  },
  {
   "cell_type": "markdown",
   "metadata": {},
   "source": [
    "## Useful Functions"
   ]
  },
  {
   "cell_type": "code",
   "execution_count": 4,
   "metadata": {},
   "outputs": [],
   "source": [
    "#this functions pick data ranges out of an xarray data structure.\n",
    "def is_dayofyear(dayofyear,dd):\n",
    "    return (dayofyear==dd)\n",
    "\n",
    "def is_dayofyear_range(dayofyear,dd1,dd2):\n",
    "    \n",
    "    if (dd2 > dd1) & (dd2<366) & (dd1>=1):\n",
    "        return ((dayofyear>=dd1)&(dayofyear<=dd2))\n",
    "    elif (dd2 > 366) & (dd1>0):\n",
    "        dd2 = dd2 - 366\n",
    "        print('you are wrapping around years... this is a warning if you arent intending to')\n",
    "        return ((dayofyear>=dd1)|(dayofyear<=dd2))\n",
    "    elif dd1 < 1:\n",
    "        print('you are wrapping around years... this is a warning if you arent intending to')\n",
    "        dd1 = dd1+366\n",
    "        return ((dayofyear>=dd1)|(dayofyear<=dd2))\n",
    "    else:\n",
    "        print('this is an edge case you did not foresee')\n",
    "        return np.nan\n",
    "    \n",
    "def cal_ano_dcli(var):\n",
    "    '''return [var_ano, var_dcli], Taxis= axis of time'''\n",
    "    var_dcli=var.groupby('time.dayofyear').mean(dim='time')\n",
    "    var_ano= var - var.mean(dim = 'time')\n",
    "    \n",
    "    return var_ano, var_dcli\n",
    "\n",
    "\n",
    "\n",
    "\n",
    "#make MJO base line months\n",
    "def is_NDJFM(dayofyear):\n",
    "    return ((dayofyear==11)|(dayofyear==12)|(dayofyear==1)|(dayofyear==2)|(dayofyear==3))\n",
    "\n",
    "\n",
    "\n",
    "def is_doyrange(doy,dd,tod,hh):\n",
    "    daywind = 15\n",
    "    if (dd - daywind) < 1:\n",
    "        # print('in 1')\n",
    "        return ((doy >= (366+(dd-daywind))) | (doy <= dd+daywind)) & (tod==hh)\n",
    "        \n",
    "    elif (dd + daywind) > 366:\n",
    "        # print('in 2')\n",
    "        return ((((doy <= 366) & (doy>=(dd-daywind))) | (doy <= (-1*((366-(dd-daywind))-(2*daywind)))  )))&(tod==hh)\n",
    "    \n",
    "    else:\n",
    "        # print('in 3')\n",
    "        return ((doy >= dd-daywind) & (doy <= dd+daywind))&(tod==hh)\n",
    "    \n",
    "\n",
    "# def is_NDJFM(dayofyear):\n",
    "#     return ((dayofyear==12)|(dayofyear==1)|(dayofyear==2))\n",
    "\n",
    "# def is_NDJFM(dayofyear):\n",
    "#     return ((dayofyear==1)|(dayofyear==2)|(dayofyear==3)|(dayofyear==4)|(dayofyear==5)|(dayofyear==6)|(dayofyear==7)|(dayofyear==8)|(dayofyear==9)|(dayofyear==10)|(dayofyear==11)|(dayofyear==12))\n",
    "\n",
    "#  NDJFM_data = GPH_E20c.sel(time=is_NDJFM(GPH_E20c['time.month']))"
   ]
  },
  {
   "cell_type": "markdown",
   "metadata": {},
   "source": [
    "## First Load the CESM LENS Data\n",
    "need Z500\n"
   ]
  },
  {
   "cell_type": "code",
   "execution_count": 12,
   "metadata": {},
   "outputs": [],
   "source": [
    "%%time\n",
    "FNS_all = sorted(glob.glob('/glade/scratch/wchapman/ERA5_uvolr/1deg/*128_129_z*'))\n",
    "DSz500 =  xr.open_mfdataset(FNS_all,parallel=True)\n",
    "\n",
    "DSz500 = DSz500.chunk(chunks={'time':100,'lat':192,'lon':288})\n",
    "\n",
    "DSz500=DSz500.convert_calendar(\"standard\", use_cftime=True)\n",
    "print('....loading....')\n",
    "DSz500=DSz500.load()"
   ]
  },
  {
   "cell_type": "code",
   "execution_count": 22,
   "metadata": {},
   "outputs": [],
   "source": [
    "%%time\n",
    "def cal_ano_dcli(var):\n",
    "    '''return [var_ano, var_dcli], Taxis= axis of time'''\n",
    "    var_dcli=var.groupby('time.dayofyear').mean(dim='time')\n",
    "    var_ano= var.groupby('time.dayofyear') - var_dcli    \n",
    "    return xvar_ano, var_dcli\n",
    "\n",
    "DSz500_anom,DSz500_clim = cal_ano_dcli(DSz500)\n",
    "print('....adding states...')\n",
    "DSz500['Z500_anom']=DSz500_anom['Z500']\n",
    "DSz500['Z500_clim'] = DSz500['Z500']-DSz500['Z500_anom']\n",
    "DSz500.to_netcdf('/glade/scratch/wchapman/data_for_KJM/'+'Z500_CESM2_BHIST_100_400_KJMmethod.nc')"
   ]
  },
  {
   "cell_type": "markdown",
   "metadata": {},
   "source": [
    "## Make Climatology\n",
    "- This takes about 1000 years.. it's better to just load the files if they have already been made"
   ]
  },
  {
   "cell_type": "code",
   "execution_count": 22,
   "metadata": {},
   "outputs": [
    {
     "name": "stdout",
     "output_type": "stream",
     "text": [
      "...now repeating climo...\n",
      "doing  0  of  17897\n",
      "doing  500  of  17897\n",
      "doing  1000  of  17897\n",
      "doing  1500  of  17897\n",
      "doing  2000  of  17897\n",
      "doing  2500  of  17897\n",
      "doing  3000  of  17897\n",
      "doing  3500  of  17897\n",
      "doing  4000  of  17897\n",
      "doing  4500  of  17897\n",
      "doing  5000  of  17897\n",
      "doing  5500  of  17897\n",
      "doing  6000  of  17897\n",
      "doing  6500  of  17897\n",
      "doing  7000  of  17897\n",
      "doing  7500  of  17897\n",
      "doing  8000  of  17897\n",
      "doing  8500  of  17897\n",
      "doing  9000  of  17897\n",
      "doing  9500  of  17897\n",
      "doing  10000  of  17897\n",
      "doing  10500  of  17897\n",
      "doing  11000  of  17897\n",
      "doing  11500  of  17897\n",
      "doing  12000  of  17897\n",
      "doing  12500  of  17897\n",
      "doing  13000  of  17897\n",
      "doing  13500  of  17897\n",
      "doing  14000  of  17897\n",
      "doing  14500  of  17897\n",
      "doing  15000  of  17897\n",
      "doing  15500  of  17897\n",
      "doing  16000  of  17897\n",
      "doing  16500  of  17897\n",
      "doing  17000  of  17897\n",
      "doing  17500  of  17897\n",
      "CPU times: user 9min 21s, sys: 3.83 s, total: 9min 25s\n",
      "Wall time: 9min 40s\n"
     ]
    }
   ],
   "source": [
    "%%time\n",
    "\n",
    "def is_doyrange(doy,dd,tod,hh):\n",
    "    daywind = 15\n",
    "    if (dd - daywind) < 1:\n",
    "        # print('in 1')\n",
    "        return ((doy >= (366+(dd-daywind))) | (doy <= dd+daywind)) & (tod==hh)\n",
    "        \n",
    "    elif (dd + daywind) > 366:\n",
    "        # print('in 2')\n",
    "        return ((((doy <= 366) & (doy>=(dd-daywind))) | (doy <= (-1*((366-(dd-daywind))-(2*daywind)))  )))&(tod==hh)\n",
    "    \n",
    "    else:\n",
    "        # print('in 3')\n",
    "        return ((doy >= dd-daywind) & (doy <= dd+daywind))&(tod==hh)\n",
    "\n",
    "\n",
    "Z500_climo = xr.zeros_like(DSz500['Z'])\n",
    "print('... creating climo from centered 30 day average ...')\n",
    "for ee,dayhr in (enumerate(DSz500.time)):\n",
    "    if ee%1 ==0:\n",
    "        print('doing ',ee,' of 365')\n",
    "    dooDOY = dayhr['time.dayofyear']\n",
    "    hh=dayhr['time.hour']\n",
    "    Dtemp = DSz500.sel(time=is_doyrange(DSz500['time.dayofyear'],dooDOY,DSz500['time.hour'],hh))[['Z']].mean(['time'])\n",
    "    Z500_climo[ee,:,:] = Dtemp['Z'].values\n",
    "    \n",
    "    if ee == (365)+8:\n",
    "        endee=ee\n",
    "        enddate = dayhr\n",
    "        break\n",
    "\n",
    "print(\"this is much faster but only works with noleap calendar:\")  \n",
    "svname = '/glade/scratch/wchapman/data_for_KJM//'+'Z500_ERA5_1975_2022_WEC_repeats.nc'\n",
    "DSz500.to_netcdf(svname)\n",
    "print('otherwise you have to do this: (uncomment below)')\n",
    "\n",
    "print('...now repeating climo...') \n",
    "for ee,dayhr in (enumerate(DSz500.time)):\n",
    "    dm = dayhr['time.month'].values\n",
    "    dd = dayhr['time.day'].values\n",
    "    dy = DSz500['time.year'][0].values\n",
    "\n",
    "    getday = f'{dy:04}'+'-'+f'{dm:02}'+'-'+f'{dd:02}'\n",
    "    \n",
    "    #leap year shenanigans:\n",
    "    if f'{dm:02}'+'-'+f'{dd:02}' == '02-29': \n",
    "        getday = f'{dy:04}'+'-02-28'\n",
    "        \n",
    "    if ee%500 ==0:\n",
    "        print('doing ',ee,' of ', len(DSz500['time']))\n",
    "    try:\n",
    "        DtempZ500 = Z500_climo.sel(time=getday).squeeze()\n",
    "    except: \n",
    "        DtempZ500 = Z500_climo.sel(time=getday,method='nearest').squeeze()\n",
    "    Z500_climo[ee,:,:] = DtempZ500.values\n",
    "    \n",
    "DSz500['Z500_climo'] = Z500_climo\n",
    "\n",
    "svname = '/glade/scratch/wchapman/data_for_KJM/'+'Z500_ERA5_1975_2022_WEC.nc'\n",
    "DSz500.to_netcdf(svname)"
   ]
  },
  {
   "cell_type": "markdown",
   "metadata": {},
   "source": [
    "## Hacky Climo Way"
   ]
  },
  {
   "cell_type": "code",
   "execution_count": 16,
   "metadata": {},
   "outputs": [],
   "source": [
    "Z500S_climo = xr.open_dataset('/glade/scratch/wchapman/data_for_KJM//'+'Z500_CESM2_100_400_climo.nc')\n",
    "DSjustclim = Z500S_climo['Z500'][:380,:,:]\n",
    "Z500_climo = xr.zeros_like(DSz500['Z500'])"
   ]
  },
  {
   "cell_type": "code",
   "execution_count": 17,
   "metadata": {},
   "outputs": [
    {
     "name": "stdout",
     "output_type": "stream",
     "text": [
      "this is much faster but only works with noleap calendar:\n",
      "...expand...\n",
      "...done expand...\n",
      "...saving...\n"
     ]
    }
   ],
   "source": [
    "print(\"this is much faster but only works with noleap calendar:\")  \n",
    "Z500np = np.array(DSjustclim[:365,:,:])\n",
    "print('...expand...')\n",
    "arrays_to_concat = [Z500np] * 300\n",
    "print('...done expand...')\n",
    "concatenated_arr = np.concatenate(arrays_to_concat, axis=0)\n",
    "Z500_climo[:,:,:]=concatenated_arr\n",
    "dr = pd.date_range(start='1801-01-01', end='2100-12-31', freq='D')\n",
    "dates = dr[(dr.day != 29) | (dr.month != 2)]\n",
    "DSz500['Z500_climo'] = Z500_climo\n",
    "DSz500['time']=dates\n",
    "print('...saving...')\n",
    "svname = '/glade/scratch/wchapman/data_for_KJM//'+'Z500_CESM2_100_400_repeats.nc'\n",
    "DSz500.to_netcdf(svname)"
   ]
  },
  {
   "cell_type": "markdown",
   "metadata": {},
   "source": [
    "## For Tony to do.. Create your anomaly: \n",
    "- subtract Z500_climo from Z500 and save a new variable Z500a\n",
    "- Take and average over the north Pacific (lat[20,70],lon[150-240])\n",
    "- - This will make the \"index\" of interest"
   ]
  },
  {
   "cell_type": "code",
   "execution_count": null,
   "metadata": {},
   "outputs": [],
   "source": []
  },
  {
   "cell_type": "code",
   "execution_count": null,
   "metadata": {},
   "outputs": [],
   "source": []
  },
  {
   "cell_type": "code",
   "execution_count": null,
   "metadata": {},
   "outputs": [],
   "source": []
  }
 ],
 "metadata": {
  "kernelspec": {
   "display_name": "NPL 2023b",
   "language": "python",
   "name": "npl-2023b"
  },
  "language_info": {
   "codemirror_mode": {
    "name": "ipython",
    "version": 3
   },
   "file_extension": ".py",
   "mimetype": "text/x-python",
   "name": "python",
   "nbconvert_exporter": "python",
   "pygments_lexer": "ipython3",
   "version": "3.10.12"
  }
 },
 "nbformat": 4,
 "nbformat_minor": 4
}
