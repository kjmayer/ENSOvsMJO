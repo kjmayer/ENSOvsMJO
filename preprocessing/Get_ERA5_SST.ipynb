{
 "cells": [
  {
   "cell_type": "code",
   "execution_count": 1,
   "id": "744dcbc8-ec1a-49d5-843a-c94e49445b6a",
   "metadata": {},
   "outputs": [],
   "source": [
    "import xarray as xr\n",
    "import xesmf as xe\n",
    "import numpy as np\n",
    "import glob\n",
    "import os\n",
    "import pandas as pd\n",
    "import matplotlib.pyplot as plt\n",
    "import glob"
   ]
  },
  {
   "cell_type": "code",
   "execution_count": 2,
   "id": "587b5992-e73c-460d-acb5-86c3fddf751d",
   "metadata": {},
   "outputs": [],
   "source": [
    "def flatten_list(input_list):\n",
    "    flattened_list = []\n",
    "    for item in input_list:\n",
    "        if isinstance(item, list):\n",
    "            flattened_list.extend(flatten_list(item))\n",
    "        else:\n",
    "            flattened_list.append(item)\n",
    "    return flattened_list\n",
    "\n",
    "FNS_all_olr = []\n",
    "for yryr in range(1974,2023):\n",
    "    for momo in range(1,13):\n",
    "        FNS = sorted(glob.glob('/glade/collections/rda/data/ds633.0//e5.oper.an.sfc/'+str(yryr)+str(momo).zfill(2)+'/*_sstk.*.nc'))\n",
    "        FNS_all_olr.append(FNS)\n",
    "FNS_all_olr = flatten_list(FNS_all_olr)\n",
    "# FNS_all_olr"
   ]
  },
  {
   "cell_type": "code",
   "execution_count": 1,
   "id": "7c9a0ed7-684c-482a-9f10-9b9fbac7211a",
   "metadata": {},
   "outputs": [],
   "source": [
    "FNS_all_olr\n",
    "dirout = '/glade/scratch/wchapman/ERA5_uvolr/'\n",
    "for ee,fnfn in enumerate(FNS_all_olr):\n",
    "\n",
    "    DSall = xr.open_dataset(fnfn)    \n",
    "    inits=[]\n",
    "    for initt in DSall['time'].values:\n",
    "        inits.append(str(initt)[:10])\n",
    "    \n",
    "    inits = np.unique(inits)\n",
    "    for inny in inits: \n",
    "        file_out_name = dirout + fnfn.split('/')[-1].split('ll025sc')[0]+'ll025sc.'+inny.replace('-','')+'.nc'\n",
    "        print(file_out_name)\n",
    "        if os.path.exists(file_out_name):\n",
    "            print(f\"File '{file_out_name}' already exists. Continuing to the next file...\")\n",
    "            continue\n",
    "            \n",
    "        DSsmall = DSall.sel(time=inny)\n",
    "        \n",
    "        DSsmall = DSsmall.mean(['time'])\n",
    "        dtrang=pd.date_range(start=str(inny),end='2024-01-01')[0]\n",
    "        DSsmall = DSsmall.expand_dims(time=[dtrang]).drop('utc_date')\n",
    "        DSsmall.to_netcdf(file_out_name)\n"
   ]
  },
  {
   "cell_type": "markdown",
   "id": "c7f1985d-2745-4d85-8877-b345a798b4ef",
   "metadata": {},
   "source": [
    "## Regrid to 1deg"
   ]
  },
  {
   "cell_type": "code",
   "execution_count": 3,
   "id": "636df2b8-0d90-46cf-bd1c-c111703bd5a0",
   "metadata": {},
   "outputs": [
    {
     "data": {
      "text/plain": [
       "'20140829'"
      ]
     },
     "execution_count": 3,
     "metadata": {},
     "output_type": "execute_result"
    }
   ],
   "source": [
    "FNSall = sorted(glob.glob('/glade/scratch/wchapman/ERA5_uvolr/*_sstk*.nc'))\n",
    "#grab an example file to get the grid: \n",
    "DScamgrid = xr.open_dataset('/glade/campaign/cisl/aiml/wchapman/CAM_runs/f.e21.DAcompset.f09_d025_free_MJO_1982/atm/hist/f.e21.DAcompset.f09_d025_free_MJO_1982.cam.h0.1982-02.nc')\n",
    "DScamgrid\n",
    "\n",
    "#make regridder structure:\n",
    "ds_out = xr.Dataset(\n",
    "    {\n",
    "        \"lat\": ([\"lat\"], np.array(DScamgrid.lat)),\n",
    "        \"lon\": ([\"lon\"], np.array(DScamgrid.lon)),\n",
    "    }\n",
    ")\n",
    "\n",
    "#gather dates\n",
    "fnunique = np.unique([fnfn.split('.')[-2] for fnfn in FNSall])\n",
    "\n",
    "fnunique[14850]"
   ]
  },
  {
   "cell_type": "code",
   "execution_count": 1,
   "id": "f6852860-7662-4e87-bf45-39b65900ea97",
   "metadata": {},
   "outputs": [],
   "source": [
    "FNSall = sorted(glob.glob('/glade/scratch/wchapman/ERA5_uvolr/*_sstk*.nc'))\n",
    "#grab an example file to get the grid: \n",
    "DScamgrid = xr.open_dataset('/glade/campaign/cisl/aiml/wchapman/CAM_runs/f.e21.DAcompset.f09_d025_free_MJO_1982/atm/hist/f.e21.DAcompset.f09_d025_free_MJO_1982.cam.h0.1982-02.nc')\n",
    "DScamgrid\n",
    "\n",
    "#make regridder structure:\n",
    "ds_out = xr.Dataset(\n",
    "    {\n",
    "        \"lat\": ([\"lat\"], np.array(DScamgrid.lat)),\n",
    "        \"lon\": ([\"lon\"], np.array(DScamgrid.lon)),\n",
    "    }\n",
    ")\n",
    "\n",
    "#gather dates\n",
    "fnunique = np.unique([fnfn.split('.')[-2] for fnfn in FNSall])\n",
    "\n",
    "\n",
    "\n",
    "\n",
    "print('starting loop')\n",
    "for ee,dtdt in enumerate(fnunique[14850:]):\n",
    "    ee+=1\n",
    "    if ee%50==0:\n",
    "        print(f'loop {ee} of {len(fnunique)}')\n",
    "    FNSdtdt = sorted(glob.glob('/glade/scratch/wchapman/ERA5_uvolr/*_sstk*'+dtdt+'*.nc'))\n",
    "    \n",
    "    if len(FNSdtdt) !=1:\n",
    "        print('stopped at:', dtdt)\n",
    "        break\n",
    "        \n",
    "    for indfiles in FNSdtdt: \n",
    "        #do the rest of my operations\n",
    "            \n",
    "        outfile = '/glade/scratch/wchapman/ERA5_uvolr/1deg/'+indfiles.split('/')[-1][:-2]+'1deg.nc'\n",
    "        if os.path.exists(outfile):\n",
    "            # File exists, continue with the loop iteration\n",
    "            print(f\"File '{outfile}' exists. Continuing with the loop iteration...\")\n",
    "            # Additional actions for the existing file...\n",
    "            continue  # Continue to the next iteration\n",
    "            \n",
    "        DSall = xr.open_dataset(indfiles)\n",
    "        # ##build regridder method: \n",
    "        if ee == 0:\n",
    "            print('...rebuilding weight file...')\n",
    "            regridder_save_weights = xe.Regridder(DSall, ds_out, \"bilinear\",filename='ECMWF_to_1deg_xesmf_712x1440_180x360.nc')\n",
    "            # #regrid. \n",
    "            ds_out = regridder_save_weights(DSall) #this is an xarray instance now. \n",
    "            #compute from xarray in dask \n",
    "            #save:\n",
    "            print('saving... ',outfile)\n",
    "            ds_out.to_netcdf(outfile)\n",
    "        else:\n",
    "            regridder_reuse_weights = xe.Regridder(DSall, ds_out, \"bilinear\",reuse_weights=True,filename='ECMWF_to_1deg_xesmf_712x1440_180x360.nc')\n",
    "            # #regrid. \n",
    "            ds_out = regridder_reuse_weights(DSall) #this is an xarray instance now. \n",
    "            #compute from xarray in dask \n",
    "            #save:\n",
    "            print('saving... ',outfile)\n",
    "            ds_out.to_netcdf(outfile)\n",
    "\n",
    "\n"
   ]
  },
  {
   "cell_type": "code",
   "execution_count": 5,
   "id": "958ae18b-2412-4e5b-b0b7-7a0580f1d480",
   "metadata": {},
   "outputs": [
    {
     "name": "stdout",
     "output_type": "stream",
     "text": [
      "client does not exist yet\n"
     ]
    }
   ],
   "source": [
    "if 'client' in locals():\n",
    "    client.shutdown()\n",
    "    print('...shutdown client...')\n",
    "else:\n",
    "    print('client does not exist yet')"
   ]
  },
  {
   "cell_type": "code",
   "execution_count": null,
   "id": "a024ea84-411d-4dd9-9d65-856a6164b0a7",
   "metadata": {},
   "outputs": [],
   "source": []
  }
 ],
 "metadata": {
  "kernelspec": {
   "display_name": "NPL 2023b",
   "language": "python",
   "name": "npl-2023b"
  },
  "language_info": {
   "codemirror_mode": {
    "name": "ipython",
    "version": 3
   },
   "file_extension": ".py",
   "mimetype": "text/x-python",
   "name": "python",
   "nbconvert_exporter": "python",
   "pygments_lexer": "ipython3",
   "version": "3.10.12"
  }
 },
 "nbformat": 4,
 "nbformat_minor": 5
}
