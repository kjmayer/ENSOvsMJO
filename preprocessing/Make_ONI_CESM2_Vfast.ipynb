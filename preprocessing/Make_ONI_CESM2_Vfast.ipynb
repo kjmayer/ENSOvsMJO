{
 "cells": [
  {
   "cell_type": "code",
   "execution_count": 1,
   "metadata": {},
   "outputs": [],
   "source": [
    "import numpy as np\n",
    "import xarray as xr\n",
    "import matplotlib.pyplot as plt"
   ]
  },
  {
   "cell_type": "code",
   "execution_count": null,
   "metadata": {},
   "outputs": [],
   "source": [
    "DIR = '/glade/scratch/wchapman/data_for_KJM' #'/glade/scratch/kjmayer/DATA/CESM2-piControl/daily/'\n",
    "SST_FINAME = 'SST_CESM2_0100_0400.b.e21.B1850.f09_g17.CMIP6-esm-piControl.001.nc'\n",
    "DSsst = xr.open_dataset(DIR+SST_FINAME)"
   ]
  },
  {
   "cell_type": "code",
   "execution_count": null,
   "metadata": {},
   "outputs": [],
   "source": [
    "DSsst['TS_SSTa']=DSsst['SSTa'].sel(lat=slice(-5,5),lon=slice(190,240)).mean(['lat','lon'])\n",
    "# perform rolling mean\n",
    "DSsst['TS_SST_ONI'] = DSsst['TS_SSTa'].rolling(time=90,min_periods=1,center=True).mean()"
   ]
  },
  {
   "cell_type": "code",
   "execution_count": null,
   "metadata": {},
   "outputs": [],
   "source": [
    "SST_FINAME_v2 = 'SSTv2_CESM2_0100_0400.b.e21.B1850.f09_g17.CMIP6-esm-piControl.001.nc'\n",
    "DSsst.to_netcdf(DIR+SST_FINAME_v2)"
   ]
  }
 ],
 "metadata": {
  "kernelspec": {
   "display_name": "Python 3 (ipykernel)",
   "language": "python",
   "name": "python3"
  },
  "language_info": {
   "codemirror_mode": {
    "name": "ipython",
    "version": 3
   },
   "file_extension": ".py",
   "mimetype": "text/x-python",
   "name": "python",
   "nbconvert_exporter": "python",
   "pygments_lexer": "ipython3",
   "version": "3.9.12"
  }
 },
 "nbformat": 4,
 "nbformat_minor": 4
}
