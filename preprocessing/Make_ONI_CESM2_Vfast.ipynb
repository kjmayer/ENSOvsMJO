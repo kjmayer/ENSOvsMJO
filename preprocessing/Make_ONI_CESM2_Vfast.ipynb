{
 "cells": [
  {
   "cell_type": "code",
   "execution_count": 1,
   "metadata": {},
   "outputs": [],
   "source": [
    "import numpy as np\n",
    "import xarray as xr\n",
    "import matplotlib.pyplot as plt"
   ]
  },
  {
   "cell_type": "code",
   "execution_count": 8,
   "metadata": {},
   "outputs": [],
   "source": [
    "DIR = '/glade/scratch/wchapman/data_for_KJM/' #'/glade/scratch/kjmayer/DATA/CESM2-piControl/daily/'\n",
    "SST_FINAME = 'SST_CESM2_0100_0400.b.e21.B1850.f09_g17.CMIP6-esm-piControl.001.nc'\n",
    "DSsst = xr.open_dataset(DIR+SST_FINAME)\n",
    "DSsst['SSTa']=DSsst['SST']-DSsst['SST_climo']"
   ]
  },
  {
   "cell_type": "code",
   "execution_count": 12,
   "metadata": {},
   "outputs": [],
   "source": [
    "DSsst['TS_SSTa']=DSsst['SSTa'].sel(lat=slice(-5,5),lon=slice(190,240)).mean(['lat','lon'])\n",
    "# perform rolling mean\n",
    "DSsst['TS_SST_ONI'] = DSsst['TS_SSTa'].rolling(time=90,min_periods=1,center=False).mean()\n",
    "DSsst['TS_SST_ONI_centered'] = DSsst['TS_SSTa'].rolling(time=90,min_periods=1,center=True).mean()\n",
    "DSsst['TS_SST_ONI_30'] = DSsst['TS_SSTa'].rolling(time=30,min_periods=1,center=False).mean()\n",
    "DSsst['TS_SST_ONI_45'] = DSsst['TS_SSTa'].rolling(time=45,min_periods=1,center=False).mean()\n"
   ]
  },
  {
   "cell_type": "code",
   "execution_count": 13,
   "metadata": {},
   "outputs": [],
   "source": [
    "SST_FINAME_v2 = 'SSTv3_CESM2_0100_0400.b.e21.B1850.f09_g17.CMIP6-esm-piControl.001.nc'\n",
    "DSsst.to_netcdf(DIR+SST_FINAME_v2)"
   ]
  },
  {
   "cell_type": "code",
   "execution_count": null,
   "metadata": {},
   "outputs": [],
   "source": []
  }
 ],
 "metadata": {
  "kernelspec": {
   "display_name": "NPL 2023b",
   "language": "python",
   "name": "npl-2023b"
  },
  "language_info": {
   "codemirror_mode": {
    "name": "ipython",
    "version": 3
   },
   "file_extension": ".py",
   "mimetype": "text/x-python",
   "name": "python",
   "nbconvert_exporter": "python",
   "pygments_lexer": "ipython3",
   "version": "3.10.12"
  }
 },
 "nbformat": 4,
 "nbformat_minor": 4
}
