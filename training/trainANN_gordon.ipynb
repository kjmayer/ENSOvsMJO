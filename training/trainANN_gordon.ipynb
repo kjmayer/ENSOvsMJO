{
 "cells": [
  {
   "cell_type": "code",
   "execution_count": 1,
   "id": "8d21e617-79f3-4efe-ba66-a8ceeea6829b",
   "metadata": {},
   "outputs": [
    {
     "name": "stderr",
     "output_type": "stream",
     "text": [
      "2023-08-22 13:37:07.712082: I tensorflow/core/platform/cpu_feature_guard.cc:193] This TensorFlow binary is optimized with oneAPI Deep Neural Network Library (oneDNN) to use the following CPU instructions in performance-critical operations:  SSE4.1 SSE4.2 AVX AVX2 AVX512F AVX512_VNNI FMA\n",
      "To enable them in other operations, rebuild TensorFlow with the appropriate compiler flags.\n",
      "2023-08-22 13:37:09.964592: I tensorflow/core/util/port.cc:104] oneDNN custom operations are on. You may see slightly different numerical results due to floating-point round-off errors from different computation orders. To turn them off, set the environment variable `TF_ENABLE_ONEDNN_OPTS=0`.\n"
     ]
    }
   ],
   "source": [
    "import numpy as np\n",
    "import xarray as xr\n",
    "import matplotlib.pyplot as plt\n",
    "from datetime import datetime\n",
    "import pandas as pd\n",
    "import random\n",
    "from sklearn.metrics import accuracy_score\n",
    "\n",
    "import tensorflow as tf\n",
    "import sys\n",
    "sys.path.append('/glade/work/kjmayer/research/catalyst/ENSOvsMJO/utils/')\n",
    "from trainGordon_utils import subset, build_model, fullmodel, scheduler, plot_results\n",
    "from exp_hp import get_hp"
   ]
  },
  {
   "cell_type": "markdown",
   "id": "33258a16-8d23-43ee-a028-0613c4e38df8",
   "metadata": {},
   "source": [
    "## TODO: \n",
    "1. ADD A setup enviroment for the code... \n",
    "2. Adjust it so it is just for the wintertime... \n",
    "3. play with lead times (consider doing not a jupyter notebook). \n",
    "4. "
   ]
  },
  {
   "cell_type": "code",
   "execution_count": null,
   "id": "ad8c1b71-fd16-472e-b363-7085b17e3494",
   "metadata": {},
   "outputs": [],
   "source": []
  },
  {
   "cell_type": "code",
   "execution_count": null,
   "id": "fd3af1f9-e832-4c7a-95cc-6bb243dbec6a",
   "metadata": {},
   "outputs": [],
   "source": []
  },
  {
   "cell_type": "markdown",
   "id": "b04a82a1-2dd5-4824-800e-17526531ae9e",
   "metadata": {
    "jp-MarkdownHeadingCollapsed": true,
    "tags": []
   },
   "source": [
    "## Function Notes (trainGordon_utils.py):\n",
    "<code>\n",
    "# build individual models (e.g. MJO and ENSO models)\n",
    "build_model(seed, # seed to initialize weights\n",
    "            dropout_rate, # dropout rate (applied between input & first dense)\n",
    "            activity_reg, # L2 (applied to first layer)\n",
    "            hiddens, # list of nodes per each layer\n",
    "            input_shape, # input shape \n",
    "            name, # input layer name\n",
    "            biasbool=True # True = include bias term, False = no bias \n",
    "            )\n",
    "</code>\n",
    "<code>\n",
    "# linearly combine MJO and ENSO models for final prediction\n",
    "fullmodel(model1, # model 1\n",
    "          model2, # model 2\n",
    "          input1, # input into model 1 (model1)\n",
    "          input2, # input into model 2 (model2)\n",
    "          seed, # seed to initialize weights\n",
    "          )\n",
    "</code>"
   ]
  },
  {
   "cell_type": "markdown",
   "id": "3efa0ef0-8ad4-4d68-add4-6631e6c74092",
   "metadata": {
    "tags": []
   },
   "source": [
    "## Load & Prep Data"
   ]
  },
  {
   "cell_type": "code",
   "execution_count": 2,
   "id": "d8a70fc8-79c3-4c2a-a72b-aa8d364da5bc",
   "metadata": {},
   "outputs": [],
   "source": [
    "DIR = '/glade/scratch/kjmayer/DATA/CESM2-piControl/daily/'\n",
    "\n",
    "X1_FINAME = 'SSTv2_CESM2_0100_0400.b.e21.B1850.f09_g17.CMIP6-esm-piControl.001.nc'\n",
    "X2_FINAME = 'MJO_CESM2_0100_0400.b.e21.B1850.f09_g17.CMIP6-esm-piControl.001.nc'\n",
    "Y_FINAME  = 'Z500v2_CESM2_0100_0400.b.e21.B1850.f09_g17.CMIP6-esm-piControl.001.nc'"
   ]
  },
  {
   "cell_type": "code",
   "execution_count": 3,
   "id": "81c04e9a-bbcc-418e-8023-b7dea1454761",
   "metadata": {},
   "outputs": [],
   "source": [
    "EXP_NAME = 'exp1'\n",
    "hps = get_hp(EXP_NAME)\n",
    "\n",
    "N_z500runmean = hps['Y_RUNMEAN'] #days\n",
    "N_days_100yrs = 100*365 #days\n",
    "LEAD = hps['LEAD'] #days\n",
    "\n",
    "N_daysbefore = hps['X_ADDITIONAL_DAYS'] #days to go \"back in time\" for X\n",
    "\n",
    "X1VAR = 'TS_SST_ONI'\n",
    "X2VAR1 = 'RMM1_CESM2'\n",
    "X2VAR2 = 'RMM2_CESM2'\n",
    "\n",
    "YVAR = 'TS_Z500a'\n",
    "\n",
    "GLOBAL_SEED = hps['GLOBAL_SEED']\n",
    "np.random.seed(GLOBAL_SEED)\n",
    "random.seed(GLOBAL_SEED)\n",
    "tf.random.set_seed(GLOBAL_SEED)"
   ]
  },
  {
   "cell_type": "code",
   "execution_count": 4,
   "id": "f8d9a719-2833-474d-b724-4849bbb7df13",
   "metadata": {},
   "outputs": [],
   "source": [
    "# TRAINING (100 years)\n",
    "# predictors [time]\n",
    "X1train = xr.open_dataset(DIR+X1_FINAME)[X1VAR][:N_days_100yrs]\n",
    "\n",
    "X2trainRMM1 = xr.open_dataset(DIR+X2_FINAME)[X2VAR1][:N_days_100yrs]\n",
    "X2trainRMM2 = xr.open_dataset(DIR+X2_FINAME)[X2VAR2][:N_days_100yrs]\n",
    "X2train = xr.concat([X2trainRMM1,X2trainRMM2], dim = 'new_dim') # 2xtime\n",
    "\n",
    "# predictand [time]\n",
    "Ytrain = xr.open_dataset(DIR+Y_FINAME)[YVAR][:N_days_100yrs]\n",
    "\n",
    "\n",
    "# VALIDATION (100 years)\n",
    "# repeat for validation data\n",
    "X1val = xr.open_dataset(DIR+X1_FINAME)[X1VAR][N_days_100yrs:N_days_100yrs*2]\n",
    "\n",
    "X2valRMM1 = xr.open_dataset(DIR+X2_FINAME)[X2VAR1][N_days_100yrs:N_days_100yrs*2]\n",
    "X2valRMM2 = xr.open_dataset(DIR+X2_FINAME)[X2VAR2][N_days_100yrs:N_days_100yrs*2]\n",
    "X2val = xr.concat([X2valRMM1,X2valRMM2], dim = 'new_dim') # 2xtime\n",
    "\n",
    "# predictand [time]\n",
    "Yval = xr.open_dataset(DIR+Y_FINAME)[YVAR][N_days_100yrs:N_days_100yrs*2]"
   ]
  },
  {
   "cell_type": "code",
   "execution_count": 5,
   "id": "576f569f-509d-486a-91ac-a80e245d43c7",
   "metadata": {},
   "outputs": [],
   "source": [
    "_DAYS_IN_MONTH = [31,28,31,30,31,30,31,31,30,31,30,31]  # Ignores leap days.\n",
    "\n",
    "start_year, end_year = int(Ytrain.time.dt.year[0]), int(Ytrain.time.dt.year[-1])+1\n",
    "dates = []\n",
    "for year in range(start_year, end_year):\n",
    "    for month in range(1, 13):\n",
    "        for day in range(1, _DAYS_IN_MONTH[month-1]+1):\n",
    "            dates.append(datetime(year, month, day, hour=0, minute=0))\n",
    "\n",
    "dates = pd.to_datetime(dates)\n",
    "dates_a2a = dates[119:(36500+119)]\n",
    "\n",
    "Ytrainroll = Ytrain.rolling(time=N_z500runmean, min_periods=N_z500runmean, center=False).mean('time').dropna('time')\n",
    "# Ytrainroll[:100].plot()\n",
    "Ytrainroll['time'] = dates_a2a[:-(N_z500runmean-1)]\n",
    "# Ytrainroll[:100].plot()"
   ]
  },
  {
   "cell_type": "code",
   "execution_count": 6,
   "id": "3522fd04-ca09-464e-83f5-407ce830d571",
   "metadata": {},
   "outputs": [],
   "source": [
    "_DAYS_IN_MONTH = [31,28,31,30,31,30,31,31,30,31,30,31]  # Ignores leap days.\n",
    "\n",
    "start_year, end_year = int(Yval.time.dt.year[0]), int(Yval.time.dt.year[-1])+1\n",
    "dates = []\n",
    "for year in range(start_year, end_year):\n",
    "    for month in range(1, 13):\n",
    "        for day in range(1, _DAYS_IN_MONTH[month-1]+1):\n",
    "            dates.append(datetime(year, month, day, hour=0, minute=0))\n",
    "\n",
    "dates = pd.to_datetime(dates)\n",
    "dates_a2a = dates[119:(36500+119)]\n",
    "\n",
    "Yvalroll = Yval.rolling(time=N_z500runmean, min_periods=N_z500runmean, center=False).mean('time').dropna('time')\n",
    "Yvalroll['time'] = dates_a2a[:-(N_z500runmean-1)]"
   ]
  },
  {
   "cell_type": "code",
   "execution_count": 7,
   "id": "0b4321cd-a62a-4ffe-8515-8b768686f7a0",
   "metadata": {},
   "outputs": [],
   "source": [
    "# end X early, so we don't run out of Y data\n",
    "X1train_final = X1train[:-(N_z500runmean-1)][:-1*LEAD] \n",
    "X2train_final = X2train[:,:-(N_z500runmean-1)][:,:-1*LEAD] \n",
    "\n",
    "# shift Y to account for lead\n",
    "Ytrain_final = Ytrainroll[LEAD:]\n",
    "\n",
    "\n",
    "# repeat for validation data\n",
    "# end X early, so we don't run out of Y data\n",
    "X1val_final = X1val[:-(N_z500runmean-1)][:-1*LEAD] \n",
    "X2val_final = X2val[:,:-(N_z500runmean-1)][:,:-1*LEAD] \n",
    "\n",
    "# shift Y to account for lead\n",
    "Yval_final = Yvalroll[LEAD:]"
   ]
  },
  {
   "cell_type": "code",
   "execution_count": 8,
   "id": "00d16020-fa9d-45bd-b614-8aebdd571888",
   "metadata": {},
   "outputs": [
    {
     "name": "stdout",
     "output_type": "stream",
     "text": [
      "(36480,)\n",
      "(2, 36480)\n",
      "(36480,)\n",
      "(36480,)\n",
      "(2, 36480)\n",
      "(36480,)\n"
     ]
    }
   ],
   "source": [
    "# check that Ytrain and X1/2train are the same size\n",
    "# ----- code here -----\n",
    "print(X1train_final.shape)\n",
    "print(X2train_final.shape)\n",
    "print(Ytrain_final.shape)\n",
    "\n",
    "print(X1val_final.shape)\n",
    "print(X2val_final.shape)\n",
    "print(Yval_final.shape)"
   ]
  },
  {
   "cell_type": "code",
   "execution_count": 9,
   "id": "4de9dcba-e8b4-4a05-8f9e-b7db6ac05a93",
   "metadata": {},
   "outputs": [],
   "source": [
    "# NOTE: we standardize training, validation and testing using the TRAINING mean & std (or median)\n",
    "\n",
    "# standardize Xs using Xtrain\n",
    "# ----- code here -----\n",
    "X1mean = X1train_final.groupby('time.dayofyear').mean()\n",
    "X1std = X1train_final.groupby('time.dayofyear').std()\n",
    "X2mean = X2train_final.groupby('time.dayofyear').mean()\n",
    "X2std = X2train_final.groupby('time.dayofyear').std()\n",
    "\n",
    "X1train_norm = (X1train_final.groupby('time.dayofyear')- X1mean).groupby('time.dayofyear')/(X1std)\n",
    "X2train_norm = (X2train_final.groupby('time.dayofyear')- X2mean).groupby('time.dayofyear')/(X2std)\n",
    "\n",
    "# preprocess Ys by subtracting Ytrain median\n",
    "# ----- code here -----\n",
    "Ymed = Ytrain_final.quantile(q=.5,dim='time')\n",
    "Ytrain_norm = Ytrain_final - Ymed\n",
    "\n",
    "# turn Ys into 0s and 1s\n",
    "# ----- code here -----\n",
    "Ytrain_norm[Ytrain_norm<=0] = 0 \n",
    "Ytrain_norm[Ytrain_norm>0] = 1\n",
    "\n",
    "\n",
    "# VALIDATION STANDARDIZATION\n",
    "# standardize Xs using Xtrain\n",
    "X1val_norm = (X1val_final.groupby('time.dayofyear')- X1mean).groupby('time.dayofyear')/(X1std)\n",
    "X2val_norm = (X2val_final.groupby('time.dayofyear')- X2mean).groupby('time.dayofyear')/(X2std)\n",
    "\n",
    "# preprocess Ys by subtracting Ytrain median\n",
    "# ----- code here -----\n",
    "Yval_norm = Yval_final - Ymed\n",
    "\n",
    "# turn Ys into 0s and 1s\n",
    "# ----- code here -----\n",
    "Yval_norm[Yval_norm<=0] = 0 \n",
    "Yval_norm[Yval_norm>0] = 1"
   ]
  },
  {
   "cell_type": "code",
   "execution_count": 10,
   "id": "4e592e0b-9e9c-4372-9a75-e3527fec4b82",
   "metadata": {},
   "outputs": [],
   "source": [
    "# subset predictand (and predictors) to same number of 0s and 1s\n",
    "    # if you subtract Ytrain median from Ytrain, you will have balanced classes, by definition\n",
    "    # therefore, you only need to subset validation (& eventually testing) data to have balanced classes\n",
    "n_valzero = np.shape(np.where(Yval_norm==0)[0])[0]\n",
    "n_valone  = np.shape(np.where(Yval_norm==1)[0])[0]\n",
    "i_valzero = np.where(Yval_norm==0)[0]\n",
    "i_valone  = np.where(Yval_norm==1)[0]\n",
    "\n",
    "# look into the \"subset\" function and learn how it works\n",
    "X1val_norm, Yval_norm, i_valnew = subset(X1val_norm, Yval_norm, n_valzero, n_valone, i_valzero, i_valone)\n",
    "X2val_norm = X2val_norm.isel(time = i_valnew,drop=True)"
   ]
  },
  {
   "cell_type": "code",
   "execution_count": 11,
   "id": "aa857d82-046e-49e4-8f47-971a026effc6",
   "metadata": {},
   "outputs": [],
   "source": [
    "# convert data from xarray to numpy (xarray takes ALOT longer to train with than numpy)\n",
    "# ----- code here -----\n",
    "X1_train = X1train_norm.T.values\n",
    "X2_train = X2train_norm.T.values\n",
    "\n",
    "Y_train = Ytrain_norm.values\n",
    "\n",
    "\n",
    "X1_val = X1val_norm.T.values\n",
    "X2_val = X2val_norm.T.values\n",
    "\n",
    "Y_val = Yval_norm.values"
   ]
  },
  {
   "cell_type": "markdown",
   "id": "d9bcc387-db42-4be8-a1c8-c6e30fd6916a",
   "metadata": {
    "tags": []
   },
   "source": [
    "## Optional add \"memory\" of TS"
   ]
  },
  {
   "cell_type": "code",
   "execution_count": 12,
   "id": "30f7e946-6ff9-4aa4-a5a2-941657981066",
   "metadata": {},
   "outputs": [],
   "source": [
    "#clunky bad loop: \n",
    "for ee,num in enumerate(reversed(range(N_daysbefore + 1))):\n",
    "    X1_train_back = X1_train[num:-(ee+1)] \n",
    "    X2_train_back = X2_train[num:-(ee+1),:]\n",
    "    if ee==0:\n",
    "        X1_train_norm_mem=X1_train[num:-(ee+1)]\n",
    "        X2_train_norm_mem=X2_train[num:-(ee+1),:]\n",
    "    else: \n",
    "        X1_train_norm_mem = np.vstack([X1_train_back,X1_train_norm_mem])\n",
    "        X2_train_norm_mem = np.concatenate([X2_train_back,X2_train_norm_mem],axis=1)\n",
    "Y_train_mem=Y_train[N_daysbefore:-1] #adjust Ytarget.... \n",
    "X1_train_norm_mem = X1_train_norm_mem.T\n",
    "\n",
    "#clunky bad loop: \n",
    "for ee,num in enumerate(reversed(range(N_daysbefore + 1))):\n",
    "    X1_val_back = X1_val[num:-(ee+1)] \n",
    "    X2_val_back = X2_val[num:-(ee+1),:]\n",
    "    if ee==0:\n",
    "        X1_val_norm_mem=X1_val[num:-(ee+1)]\n",
    "        X2_val_norm_mem=X2_val[num:-(ee+1),:]\n",
    "    else: \n",
    "        X1_val_norm_mem = np.vstack([X1_val_back,X1_val_norm_mem])\n",
    "        X2_val_norm_mem = np.concatenate([X2_val_back,X2_val_norm_mem],axis=1)\n",
    "        \n",
    "Y_val_mem=Y_val[N_daysbefore:-1] #adjust Ytarget.... \n",
    "X1_val_norm_mem = X1_val_norm_mem.T"
   ]
  },
  {
   "cell_type": "markdown",
   "id": "64d56a8c-eaee-44a4-9aa1-23c1c834385c",
   "metadata": {},
   "source": [
    "## Train Model"
   ]
  },
  {
   "cell_type": "code",
   "execution_count": 13,
   "id": "a6c6a1b4-3791-4e87-b301-5fc030accc44",
   "metadata": {},
   "outputs": [
    {
     "name": "stderr",
     "output_type": "stream",
     "text": [
      "2023-08-22 13:38:25.748376: E tensorflow/compiler/xla/stream_executor/cuda/cuda_driver.cc:267] failed call to cuInit: CUDA_ERROR_NO_DEVICE: no CUDA-capable device is detected\n"
     ]
    }
   ],
   "source": [
    "# variables:\n",
    "SEED = 1\n",
    "DROPOUT_RATE = hps['DROPOUT_RATE']\n",
    "\n",
    "MODELNAME1 = 'ENSO'\n",
    "RIDGE1 = hps['RIDGE1']\n",
    "HIDDENS1 = hps['HIDDENS1']\n",
    "INPUT_SHAPE1 = np.shape(X1_train_norm_mem)[1:][0]\n",
    "\n",
    "MODELNAME2 = 'MJO'\n",
    "RIDGE2 = hps['RIDGE2']\n",
    "HIDDENS2 = hps['HIDDENS2']\n",
    "INPUT_SHAPE2 = np.shape(X2_train_norm_mem)[1:][0]\n",
    "\n",
    "BATCH_SIZE = hps['BATCH_SIZE']\n",
    "N_EPOCHS = 10000\n",
    "PATIENCE = hps['PATIENCE'] # number of epochs of no \"improvement\" before training is stopped\n",
    "LR = hps['LR'] # learning rate\n",
    "\n",
    "# -------------------------------------------------\n",
    "# ENSO MODEL\n",
    "model1, input1 = build_model(SEED,\n",
    "                             DROPOUT_RATE,\n",
    "                             RIDGE1,\n",
    "                             HIDDENS1,\n",
    "                             INPUT_SHAPE1,\n",
    "                             MODELNAME1)\n",
    "\n",
    "\n",
    "# MJO MODEL\n",
    "model2, input2 = build_model(SEED,\n",
    "                             DROPOUT_RATE,\n",
    "                             RIDGE2,\n",
    "                             HIDDENS2,\n",
    "                             INPUT_SHAPE2,\n",
    "                             MODELNAME2)   \n",
    "\n",
    "# COMBINE ENSO & MJO MODEL\n",
    "model = fullmodel(model1, model2,\n",
    "                  input1, input2,\n",
    "                  SEED)"
   ]
  },
  {
   "cell_type": "code",
   "execution_count": 14,
   "id": "b932f4a8-5ab1-4671-a5e0-d4c08f0979bb",
   "metadata": {},
   "outputs": [
    {
     "data": {
      "image/png": "[encoded data removed]",
      "text/plain": [
       "<Figure size 2250x1050 with 2 Axes>"
      ]
     },
     "metadata": {},
     "output_type": "display_data"
    }
   ],
   "source": [
    "# ------ Training Hyperparameters ------\n",
    "optimizer = tf.optimizers.Adam(learning_rate = LR,)\n",
    "loss_func = tf.keras.losses.SparseCategoricalCrossentropy()\n",
    "metrics = [tf.keras.metrics.SparseCategoricalAccuracy(name=\"sparse_categorical_accuracy\", dtype=None)]                             \n",
    "\n",
    "# ------ Compile Model -----\n",
    "model.compile(optimizer = optimizer,\n",
    "              loss = loss_func,\n",
    "              metrics = metrics)\n",
    "\n",
    "# ----- Callbacks -----\n",
    "ES = tf.keras.callbacks.EarlyStopping(monitor = 'val_loss', mode = 'auto',\n",
    "                                      patience = PATIENCE, verbose = 0, restore_best_weights = True)\n",
    "LR = tf.keras.callbacks.LearningRateScheduler(scheduler,verbose=0)\n",
    "    \n",
    "\n",
    "history = model.fit({MODELNAME1:X1_train_norm_mem,\n",
    "                     MODELNAME2:X2_train_norm_mem}, \n",
    "                    Y_train_mem, \n",
    "                    batch_size = BATCH_SIZE, \n",
    "                    epochs = N_EPOCHS, \n",
    "                    validation_data = ({MODELNAME1:X1_val_norm_mem,\n",
    "                                        MODELNAME2:X2_val_norm_mem},\n",
    "                                       Y_val_mem),  \n",
    "                    verbose = 1,\n",
    "                    callbacks=[ES,LR],\n",
    "                    )\n",
    "\n",
    "#----- PLOT THE RESULTS -----\n",
    "plot_results(\n",
    "    history,\n",
    "    exp_info=(N_EPOCHS-9900, PATIENCE),\n",
    "    showplot=True\n",
    ") "
   ]
  },
  {
   "cell_type": "code",
   "execution_count": 17,
   "id": "53b18f1e-a9cb-418f-bc3b-7742bd3297d7",
   "metadata": {},
   "outputs": [
    {
     "name": "stdout",
     "output_type": "stream",
     "text": [
      "1134/1134 [==============================] - 1s 850us/step\n"
     ]
    },
    {
     "data": {
      "image/png": "[encoded data removed]",
      "text/plain": [
       "<Figure size 960x720 with 2 Axes>"
      ]
     },
     "metadata": {},
     "output_type": "display_data"
    }
   ],
   "source": [
    "# Make confusion matrix\n",
    "pred = model.predict((X1_val_norm_mem,X2_val_norm_mem))\n",
    "cat_pred = np.argmax(pred,axis=1)\n",
    "true = Y_val_mem\n",
    "\n",
    "cm = tf.math.confusion_matrix(true, cat_pred).numpy()\n",
    "plt.imshow(cm, cmap = \"Purples\")\n",
    "plt.text(x = 0, y = 0, s=str(cm[0,0]) + \"\\n(True Negative)\", color = \"w\", ha = \"center\")\n",
    "plt.text(x = 0, y = 1, s=str(cm[1,0]) + \"\\n(False Positive)\", ha = \"center\")\n",
    "plt.text(x = 1, y = 0, s=str(cm[0,1]) + \"\\n(False Negative)\", ha = \"center\")\n",
    "plt.text(x = 1, y = 1, s=str(cm[1,1]) + \"\\n(True Positive)\", color = \"w\", ha = \"center\")\n",
    "plt.xlabel(\"True Label\")\n",
    "plt.ylabel(\"Prediction\")\n",
    "plt.colorbar()\n",
    "plt.xticks((0,1), labels = [\"Y=0\", \"Y=1\"])\n",
    "plt.yticks((0,1), labels = [\"Y'=0\", \"Y'=1\"]);\n",
    "\n",
    "# plt.savefig('Confusion_Matrix.png')\n",
    "\n",
    "plt.show()"
   ]
  },
  {
   "cell_type": "code",
   "execution_count": 18,
   "id": "079187dc-984c-48f7-bce5-fe3a68dbf886",
   "metadata": {},
   "outputs": [
    {
     "name": "stdout",
     "output_type": "stream",
     "text": [
      "0.5640474221119383\n"
     ]
    }
   ],
   "source": [
    "acc = accuracy_score(true, cat_pred)\n",
    "print(acc)"
   ]
  },
  {
   "cell_type": "code",
   "execution_count": 17,
   "id": "f9dc8d28-47f2-4daa-854c-b5e28c92274b",
   "metadata": {},
   "outputs": [],
   "source": [
    "# Save the weights\n",
    "model_dir = '/glade/work/kjmayer/research/catalyst/ENSOvsMJO/saved_models/'\n",
    "model.save_weights(model_dir+'exp1.h5')"
   ]
  },
  {
   "cell_type": "code",
   "execution_count": null,
   "id": "b0db3f8a-0402-458c-9696-e3649692e5ce",
   "metadata": {},
   "outputs": [],
   "source": []
  }
 ],
 "metadata": {
  "kernelspec": {
   "display_name": "GPU Workshop",
   "language": "python",
   "name": "pygpu"
  },
  "language_info": {
   "codemirror_mode": {
    "name": "ipython",
    "version": 3
   },
   "file_extension": ".py",
   "mimetype": "text/x-python",
   "name": "python",
   "nbconvert_exporter": "python",
   "pygments_lexer": "ipython3",
   "version": "3.9.16"
  }
 },
 "nbformat": 4,
 "nbformat_minor": 5
}
